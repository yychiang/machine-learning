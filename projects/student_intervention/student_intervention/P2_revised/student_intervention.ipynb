{
 "cells": [
  {
   "cell_type": "markdown",
   "metadata": {},
   "source": [
    "# Machine Learning Engineer Nanodegree\n",
    "## Supervised Learning\n",
    "## Project 2: Building a Student Intervention System"
   ]
  },
  {
   "cell_type": "markdown",
   "metadata": {},
   "source": [
    "Welcome to the second project of the Machine Learning Engineer Nanodegree! In this notebook, some template code has already been provided for you, and it will be your job to implement the additional functionality necessary to successfully complete this project. Sections that begin with **'Implementation'** in the header indicate that the following block of code will require additional functionality which you must provide. Instructions will be provided for each section and the specifics of the implementation are marked in the code block with a `'TODO'` statement. Please be sure to read the instructions carefully!\n",
    "\n",
    "In addition to implementing code, there will be questions that you must answer which relate to the project and your implementation. Each section where you will answer a question is preceded by a **'Question X'** header. Carefully read each question and provide thorough answers in the following text boxes that begin with **'Answer:'**. Your project submission will be evaluated based on your answers to each of the questions and the implementation you provide.  \n",
    "\n",
    ">**Note:** Code and Markdown cells can be executed using the **Shift + Enter** keyboard shortcut. In addition, Markdown cells can be edited by typically double-clicking the cell to enter edit mode."
   ]
  },
  {
   "cell_type": "markdown",
   "metadata": {},
   "source": [
    "### Question 1 - Classification vs. Regression\n",
    "*Your goal for this project is to identify students who might need early intervention before they fail to graduate. Which type of supervised learning problem is this, classification or regression? Why?*\n",
    "\n",
    "哪些學生需要介入輔導？這個問題是監督式學習裡面的分類或回歸？"
   ]
  },
  {
   "cell_type": "markdown",
   "metadata": {},
   "source": [
    "**Answer: ** This is a classification problem. Given a set of students' data, we have to identify each whether he/she needs early intervention or not. This is obviously a binary classification problem."
   ]
  },
  {
   "cell_type": "markdown",
   "metadata": {},
   "source": [
    "## Exploring the Data\n",
    "Run the code cell below to load necessary Python libraries and load the student data. Note that the last column from this dataset, `'passed'`, will be our target label (whether the student graduated or didn't graduate). All other columns are features about each student."
   ]
  },
  {
   "cell_type": "code",
   "execution_count": 1,
   "metadata": {},
   "outputs": [
    {
     "name": "stdout",
     "output_type": "stream",
     "text": [
      "Student data read successfully!\n"
     ]
    }
   ],
   "source": [
    "# Import libraries\n",
    "import numpy as np\n",
    "import pandas as pd\n",
    "from time import time\n",
    "from sklearn.metrics import f1_score\n",
    "\n",
    "# Read student data\n",
    "student_data = pd.read_csv(\"student-data.csv\")\n",
    "print \"Student data read successfully!\""
   ]
  },
  {
   "cell_type": "markdown",
   "metadata": {},
   "source": [
    "### Implementation: Data Exploration\n",
    "Let's begin by investigating the dataset to determine how many students we have information on, and learn about the graduation rate among these students. In the code cell below, you will need to compute the following:\n",
    "- The total number of students, `n_students`.\n",
    "- The total number of features for each student, `n_features`.\n",
    "- The number of those students who passed, `n_passed`.\n",
    "- The number of those students who failed, `n_failed`.\n",
    "- The graduation rate of the class, `grad_rate`, in percent (%).\n"
   ]
  },
  {
   "cell_type": "code",
   "execution_count": 2,
   "metadata": {},
   "outputs": [
    {
     "data": {
      "text/plain": [
       "(395, 31)"
      ]
     },
     "execution_count": 2,
     "metadata": {},
     "output_type": "execute_result"
    }
   ],
   "source": [
    "student_data.shape"
   ]
  },
  {
   "cell_type": "code",
   "execution_count": 3,
   "metadata": {},
   "outputs": [
    {
     "name": "stdout",
     "output_type": "stream",
     "text": [
      "Total number of students: 395\n",
      "Number of features: 30\n",
      "Number of students who passed: 265\n",
      "Number of students who failed: 130\n",
      "Graduation rate of the class: 67.09%\n"
     ]
    }
   ],
   "source": [
    "# TODO: Calculate number of students\n",
    "n_students = student_data.shape[0]\n",
    "\n",
    "# TODO: Calculate number of features\n",
    "n_features = student_data.shape[1]-1\n",
    "\n",
    "# TODO: Calculate passing students\n",
    "n_passed = sum(student_data['passed']=='yes')\n",
    "\n",
    "# TODO: Calculate failing students\n",
    "n_failed = sum(student_data['passed']=='no')\n",
    "\n",
    "# TODO: Calculate graduation rate\n",
    "grad_rate = (n_passed*100.0)/(n_passed+n_failed)\n",
    "\n",
    "# Print the results\n",
    "print \"Total number of students: {}\".format(n_students)\n",
    "print \"Number of features: {}\".format(n_features)\n",
    "print \"Number of students who passed: {}\".format(n_passed)\n",
    "print \"Number of students who failed: {}\".format(n_failed)\n",
    "print \"Graduation rate of the class: {:.2f}%\".format(grad_rate)"
   ]
  },
  {
   "cell_type": "markdown",
   "metadata": {},
   "source": [
    "## Preparing the Data\n",
    "In this section, we will prepare the data for modeling, training and testing.\n",
    "\n",
    "### Identify feature and target columns\n",
    "It is often the case that the data you obtain contains non-numeric features. This can be a problem, as most machine learning algorithms expect numeric data to perform computations with.\n",
    "\n",
    "Run the code cell below to separate the student data into feature and target columns to see if any features are non-numeric."
   ]
  },
  {
   "cell_type": "code",
   "execution_count": 4,
   "metadata": {},
   "outputs": [
    {
     "name": "stdout",
     "output_type": "stream",
     "text": [
      "Feature columns:\n",
      "['school', 'sex', 'age', 'address', 'famsize', 'Pstatus', 'Medu', 'Fedu', 'Mjob', 'Fjob', 'reason', 'guardian', 'traveltime', 'studytime', 'failures', 'schoolsup', 'famsup', 'paid', 'activities', 'nursery', 'higher', 'internet', 'romantic', 'famrel', 'freetime', 'goout', 'Dalc', 'Walc', 'health', 'absences']\n",
      "\n",
      "Target column: passed\n",
      "\n",
      "Feature values:\n",
      "<bound method DataFrame.head of     school sex  age address famsize Pstatus  Medu  Fedu      Mjob      Fjob  \\\n",
      "0       GP   F   18       U     GT3       A     4     4   at_home   teacher   \n",
      "1       GP   F   17       U     GT3       T     1     1   at_home     other   \n",
      "2       GP   F   15       U     LE3       T     1     1   at_home     other   \n",
      "3       GP   F   15       U     GT3       T     4     2    health  services   \n",
      "4       GP   F   16       U     GT3       T     3     3     other     other   \n",
      "5       GP   M   16       U     LE3       T     4     3  services     other   \n",
      "6       GP   M   16       U     LE3       T     2     2     other     other   \n",
      "7       GP   F   17       U     GT3       A     4     4     other   teacher   \n",
      "8       GP   M   15       U     LE3       A     3     2  services     other   \n",
      "9       GP   M   15       U     GT3       T     3     4     other     other   \n",
      "10      GP   F   15       U     GT3       T     4     4   teacher    health   \n",
      "11      GP   F   15       U     GT3       T     2     1  services     other   \n",
      "12      GP   M   15       U     LE3       T     4     4    health  services   \n",
      "13      GP   M   15       U     GT3       T     4     3   teacher     other   \n",
      "14      GP   M   15       U     GT3       A     2     2     other     other   \n",
      "15      GP   F   16       U     GT3       T     4     4    health     other   \n",
      "16      GP   F   16       U     GT3       T     4     4  services  services   \n",
      "17      GP   F   16       U     GT3       T     3     3     other     other   \n",
      "18      GP   M   17       U     GT3       T     3     2  services  services   \n",
      "19      GP   M   16       U     LE3       T     4     3    health     other   \n",
      "20      GP   M   15       U     GT3       T     4     3   teacher     other   \n",
      "21      GP   M   15       U     GT3       T     4     4    health    health   \n",
      "22      GP   M   16       U     LE3       T     4     2   teacher     other   \n",
      "23      GP   M   16       U     LE3       T     2     2     other     other   \n",
      "24      GP   F   15       R     GT3       T     2     4  services    health   \n",
      "25      GP   F   16       U     GT3       T     2     2  services  services   \n",
      "26      GP   M   15       U     GT3       T     2     2     other     other   \n",
      "27      GP   M   15       U     GT3       T     4     2    health  services   \n",
      "28      GP   M   16       U     LE3       A     3     4  services     other   \n",
      "29      GP   M   16       U     GT3       T     4     4   teacher   teacher   \n",
      "..     ...  ..  ...     ...     ...     ...   ...   ...       ...       ...   \n",
      "365     MS   M   18       R     GT3       T     1     3   at_home     other   \n",
      "366     MS   M   18       U     LE3       T     4     4   teacher  services   \n",
      "367     MS   F   17       R     GT3       T     1     1     other  services   \n",
      "368     MS   F   18       U     GT3       T     2     3   at_home  services   \n",
      "369     MS   F   18       R     GT3       T     4     4     other   teacher   \n",
      "370     MS   F   19       U     LE3       T     3     2  services  services   \n",
      "371     MS   M   18       R     LE3       T     1     2   at_home  services   \n",
      "372     MS   F   17       U     GT3       T     2     2     other   at_home   \n",
      "373     MS   F   17       R     GT3       T     1     2     other     other   \n",
      "374     MS   F   18       R     LE3       T     4     4     other     other   \n",
      "375     MS   F   18       R     GT3       T     1     1     other     other   \n",
      "376     MS   F   20       U     GT3       T     4     2    health     other   \n",
      "377     MS   F   18       R     LE3       T     4     4   teacher  services   \n",
      "378     MS   F   18       U     GT3       T     3     3     other     other   \n",
      "379     MS   F   17       R     GT3       T     3     1   at_home     other   \n",
      "380     MS   M   18       U     GT3       T     4     4   teacher   teacher   \n",
      "381     MS   M   18       R     GT3       T     2     1     other     other   \n",
      "382     MS   M   17       U     GT3       T     2     3     other  services   \n",
      "383     MS   M   19       R     GT3       T     1     1     other  services   \n",
      "384     MS   M   18       R     GT3       T     4     2     other     other   \n",
      "385     MS   F   18       R     GT3       T     2     2   at_home     other   \n",
      "386     MS   F   18       R     GT3       T     4     4   teacher   at_home   \n",
      "387     MS   F   19       R     GT3       T     2     3  services     other   \n",
      "388     MS   F   18       U     LE3       T     3     1   teacher  services   \n",
      "389     MS   F   18       U     GT3       T     1     1     other     other   \n",
      "390     MS   M   20       U     LE3       A     2     2  services  services   \n",
      "391     MS   M   17       U     LE3       T     3     1  services  services   \n",
      "392     MS   M   21       R     GT3       T     1     1     other     other   \n",
      "393     MS   M   18       R     LE3       T     3     2  services     other   \n",
      "394     MS   M   19       U     LE3       T     1     1     other   at_home   \n",
      "\n",
      "      ...    higher internet  romantic  famrel  freetime goout Dalc Walc  \\\n",
      "0     ...       yes       no        no       4         3     4    1    1   \n",
      "1     ...       yes      yes        no       5         3     3    1    1   \n",
      "2     ...       yes      yes        no       4         3     2    2    3   \n",
      "3     ...       yes      yes       yes       3         2     2    1    1   \n",
      "4     ...       yes       no        no       4         3     2    1    2   \n",
      "5     ...       yes      yes        no       5         4     2    1    2   \n",
      "6     ...       yes      yes        no       4         4     4    1    1   \n",
      "7     ...       yes       no        no       4         1     4    1    1   \n",
      "8     ...       yes      yes        no       4         2     2    1    1   \n",
      "9     ...       yes      yes        no       5         5     1    1    1   \n",
      "10    ...       yes      yes        no       3         3     3    1    2   \n",
      "11    ...       yes      yes        no       5         2     2    1    1   \n",
      "12    ...       yes      yes        no       4         3     3    1    3   \n",
      "13    ...       yes      yes        no       5         4     3    1    2   \n",
      "14    ...       yes      yes       yes       4         5     2    1    1   \n",
      "15    ...       yes      yes        no       4         4     4    1    2   \n",
      "16    ...       yes      yes        no       3         2     3    1    2   \n",
      "17    ...       yes       no        no       5         3     2    1    1   \n",
      "18    ...       yes      yes        no       5         5     5    2    4   \n",
      "19    ...       yes      yes        no       3         1     3    1    3   \n",
      "20    ...       yes      yes        no       4         4     1    1    1   \n",
      "21    ...       yes      yes        no       5         4     2    1    1   \n",
      "22    ...       yes      yes        no       4         5     1    1    3   \n",
      "23    ...       yes      yes        no       5         4     4    2    4   \n",
      "24    ...       yes      yes        no       4         3     2    1    1   \n",
      "25    ...       yes      yes        no       1         2     2    1    3   \n",
      "26    ...       yes      yes        no       4         2     2    1    2   \n",
      "27    ...       yes      yes        no       2         2     4    2    4   \n",
      "28    ...       yes      yes        no       5         3     3    1    1   \n",
      "29    ...       yes      yes       yes       4         4     5    5    5   \n",
      "..    ...       ...      ...       ...     ...       ...   ...  ...  ...   \n",
      "365   ...       yes       no        no       3         3     4    2    4   \n",
      "366   ...       yes      yes       yes       4         2     2    2    2   \n",
      "367   ...       yes      yes       yes       5         2     1    1    2   \n",
      "368   ...       yes      yes       yes       5         2     3    1    2   \n",
      "369   ...       yes      yes       yes       3         2     2    4    2   \n",
      "370   ...       yes       no       yes       3         2     2    1    1   \n",
      "371   ...        no      yes       yes       4         3     3    2    3   \n",
      "372   ...       yes       no       yes       3         4     3    1    1   \n",
      "373   ...       yes      yes        no       3         5     5    1    3   \n",
      "374   ...       yes      yes        no       5         4     4    1    1   \n",
      "375   ...       yes      yes        no       4         3     2    1    2   \n",
      "376   ...       yes      yes       yes       5         4     3    1    1   \n",
      "377   ...       yes      yes        no       5         4     3    3    4   \n",
      "378   ...       yes      yes       yes       4         1     3    1    2   \n",
      "379   ...       yes      yes        no       4         5     4    2    3   \n",
      "380   ...       yes      yes        no       3         2     4    1    4   \n",
      "381   ...       yes      yes       yes       4         4     3    1    3   \n",
      "382   ...       yes      yes        no       4         4     3    1    1   \n",
      "383   ...       yes       no        no       4         3     2    1    3   \n",
      "384   ...       yes       no        no       5         4     3    4    3   \n",
      "385   ...       yes       no        no       5         3     3    1    3   \n",
      "386   ...       yes      yes       yes       4         4     3    2    2   \n",
      "387   ...       yes      yes        no       5         4     2    1    2   \n",
      "388   ...       yes      yes        no       4         3     4    1    1   \n",
      "389   ...       yes       no        no       1         1     1    1    1   \n",
      "390   ...       yes       no        no       5         5     4    4    5   \n",
      "391   ...       yes      yes        no       2         4     5    3    4   \n",
      "392   ...       yes       no        no       5         5     3    3    3   \n",
      "393   ...       yes      yes        no       4         4     1    3    4   \n",
      "394   ...       yes      yes        no       3         2     3    3    3   \n",
      "\n",
      "    health absences  \n",
      "0        3        6  \n",
      "1        3        4  \n",
      "2        3       10  \n",
      "3        5        2  \n",
      "4        5        4  \n",
      "5        5       10  \n",
      "6        3        0  \n",
      "7        1        6  \n",
      "8        1        0  \n",
      "9        5        0  \n",
      "10       2        0  \n",
      "11       4        4  \n",
      "12       5        2  \n",
      "13       3        2  \n",
      "14       3        0  \n",
      "15       2        4  \n",
      "16       2        6  \n",
      "17       4        4  \n",
      "18       5       16  \n",
      "19       5        4  \n",
      "20       1        0  \n",
      "21       5        0  \n",
      "22       5        2  \n",
      "23       5        0  \n",
      "24       5        2  \n",
      "25       5       14  \n",
      "26       5        2  \n",
      "27       1        4  \n",
      "28       5        4  \n",
      "29       5       16  \n",
      "..     ...      ...  \n",
      "365      3        4  \n",
      "366      5        0  \n",
      "367      1        0  \n",
      "368      4        0  \n",
      "369      5       10  \n",
      "370      3        4  \n",
      "371      3        3  \n",
      "372      3        8  \n",
      "373      1       14  \n",
      "374      1        0  \n",
      "375      4        2  \n",
      "376      3        4  \n",
      "377      2        4  \n",
      "378      1        0  \n",
      "379      1       17  \n",
      "380      2        4  \n",
      "381      5        5  \n",
      "382      3        2  \n",
      "383      5        0  \n",
      "384      3       14  \n",
      "385      4        2  \n",
      "386      5        7  \n",
      "387      5        0  \n",
      "388      1        0  \n",
      "389      5        0  \n",
      "390      4       11  \n",
      "391      2        3  \n",
      "392      3        3  \n",
      "393      5        0  \n",
      "394      5        5  \n",
      "\n",
      "[395 rows x 30 columns]>\n"
     ]
    }
   ],
   "source": [
    "# Extract feature columns\n",
    "feature_cols = list(student_data.columns[:-1])\n",
    "\n",
    "# Extract target column 'passed'\n",
    "target_col = student_data.columns[-1] \n",
    "\n",
    "# Show the list of columns\n",
    "print \"Feature columns:\\n{}\".format(feature_cols)\n",
    "print \"\\nTarget column: {}\".format(target_col)\n",
    "\n",
    "# Separate the data into feature data and target data (X_all and y_all, respectively)\n",
    "X_all = student_data[feature_cols]\n",
    "y_all = student_data[target_col]\n",
    "\n",
    "# Show the feature information by printing the first five rows\n",
    "print \"\\nFeature values:\"\n",
    "print X_all.head"
   ]
  },
  {
   "cell_type": "markdown",
   "metadata": {},
   "source": [
    "### Preprocess Feature Columns\n",
    "\n",
    "As you can see, there are several non-numeric columns that need to be converted! Many of them are simply `yes`/`no`, e.g. `internet`. These can be reasonably converted into `1`/`0` (binary) values.\n",
    "\n",
    "把yes/no轉換成0/1\n",
    "\n",
    "Other columns, like `Mjob` and `Fjob`, have more than two values, and are known as _categorical variables_. The recommended way to handle such a column is to create as many columns as possible values (e.g. `Fjob_teacher`, `Fjob_other`, `Fjob_services`, etc.), and assign a `1` to one of them and `0` to all others.\n",
    "\n",
    "類別變數中，多重類別的處理方式\n",
    "\n",
    "These generated columns are sometimes called _dummy variables_, and we will use the [`pandas.get_dummies()`](http://pandas.pydata.org/pandas-docs/stable/generated/pandas.get_dummies.html?highlight=get_dummies#pandas.get_dummies) function to perform this transformation. Run the code cell below to perform the preprocessing routine discussed in this section.\n",
    "\n",
    "pandas中有get_dummies()函數可以處理"
   ]
  },
  {
   "cell_type": "code",
   "execution_count": 5,
   "metadata": {},
   "outputs": [
    {
     "name": "stdout",
     "output_type": "stream",
     "text": [
      "Processed feature columns (48 total features):\n",
      "['school_GP', 'school_MS', 'sex_F', 'sex_M', 'age', 'address_R', 'address_U', 'famsize_GT3', 'famsize_LE3', 'Pstatus_A', 'Pstatus_T', 'Medu', 'Fedu', 'Mjob_at_home', 'Mjob_health', 'Mjob_other', 'Mjob_services', 'Mjob_teacher', 'Fjob_at_home', 'Fjob_health', 'Fjob_other', 'Fjob_services', 'Fjob_teacher', 'reason_course', 'reason_home', 'reason_other', 'reason_reputation', 'guardian_father', 'guardian_mother', 'guardian_other', 'traveltime', 'studytime', 'failures', 'schoolsup', 'famsup', 'paid', 'activities', 'nursery', 'higher', 'internet', 'romantic', 'famrel', 'freetime', 'goout', 'Dalc', 'Walc', 'health', 'absences']\n"
     ]
    }
   ],
   "source": [
    "def preprocess_features(X):\n",
    "    ''' Preprocesses the student data and converts non-numeric binary variables into\n",
    "        binary (0/1) variables. Converts categorical variables into dummy variables. '''\n",
    "    \n",
    "    # Initialize new output DataFrame\n",
    "    output = pd.DataFrame(index = X.index)\n",
    "\n",
    "    # Investigate each feature column for the data\n",
    "    for col, col_data in X.iteritems():\n",
    "        \n",
    "        # If data type is non-numeric, replace all yes/no values with 1/0\n",
    "        if col_data.dtype == object:\n",
    "            col_data = col_data.replace(['yes', 'no'], [1, 0])\n",
    "\n",
    "        # If data type is categorical, convert to dummy variables\n",
    "        if col_data.dtype == object:\n",
    "            # Example: 'school' => 'school_GP' and 'school_MS'\n",
    "            col_data = pd.get_dummies(col_data, prefix = col)  \n",
    "        \n",
    "        # Collect the revised columns\n",
    "        output = output.join(col_data)\n",
    "    \n",
    "    return output\n",
    "\n",
    "X_all = preprocess_features(X_all)\n",
    "print \"Processed feature columns ({} total features):\\n{}\".format(len(X_all.columns), list(X_all.columns))"
   ]
  },
  {
   "cell_type": "code",
   "execution_count": 13,
   "metadata": {},
   "outputs": [
    {
     "name": "stdout",
     "output_type": "stream",
     "text": [
      "<bound method DataFrame.head of      school_GP  school_MS  sex_F  sex_M  age  address_R  address_U  \\\n",
      "0            1          0      1      0   18          0          1   \n",
      "1            1          0      1      0   17          0          1   \n",
      "2            1          0      1      0   15          0          1   \n",
      "3            1          0      1      0   15          0          1   \n",
      "4            1          0      1      0   16          0          1   \n",
      "5            1          0      0      1   16          0          1   \n",
      "6            1          0      0      1   16          0          1   \n",
      "7            1          0      1      0   17          0          1   \n",
      "8            1          0      0      1   15          0          1   \n",
      "9            1          0      0      1   15          0          1   \n",
      "10           1          0      1      0   15          0          1   \n",
      "11           1          0      1      0   15          0          1   \n",
      "12           1          0      0      1   15          0          1   \n",
      "13           1          0      0      1   15          0          1   \n",
      "14           1          0      0      1   15          0          1   \n",
      "15           1          0      1      0   16          0          1   \n",
      "16           1          0      1      0   16          0          1   \n",
      "17           1          0      1      0   16          0          1   \n",
      "18           1          0      0      1   17          0          1   \n",
      "19           1          0      0      1   16          0          1   \n",
      "20           1          0      0      1   15          0          1   \n",
      "21           1          0      0      1   15          0          1   \n",
      "22           1          0      0      1   16          0          1   \n",
      "23           1          0      0      1   16          0          1   \n",
      "24           1          0      1      0   15          1          0   \n",
      "25           1          0      1      0   16          0          1   \n",
      "26           1          0      0      1   15          0          1   \n",
      "27           1          0      0      1   15          0          1   \n",
      "28           1          0      0      1   16          0          1   \n",
      "29           1          0      0      1   16          0          1   \n",
      "..         ...        ...    ...    ...  ...        ...        ...   \n",
      "365          0          1      0      1   18          1          0   \n",
      "366          0          1      0      1   18          0          1   \n",
      "367          0          1      1      0   17          1          0   \n",
      "368          0          1      1      0   18          0          1   \n",
      "369          0          1      1      0   18          1          0   \n",
      "370          0          1      1      0   19          0          1   \n",
      "371          0          1      0      1   18          1          0   \n",
      "372          0          1      1      0   17          0          1   \n",
      "373          0          1      1      0   17          1          0   \n",
      "374          0          1      1      0   18          1          0   \n",
      "375          0          1      1      0   18          1          0   \n",
      "376          0          1      1      0   20          0          1   \n",
      "377          0          1      1      0   18          1          0   \n",
      "378          0          1      1      0   18          0          1   \n",
      "379          0          1      1      0   17          1          0   \n",
      "380          0          1      0      1   18          0          1   \n",
      "381          0          1      0      1   18          1          0   \n",
      "382          0          1      0      1   17          0          1   \n",
      "383          0          1      0      1   19          1          0   \n",
      "384          0          1      0      1   18          1          0   \n",
      "385          0          1      1      0   18          1          0   \n",
      "386          0          1      1      0   18          1          0   \n",
      "387          0          1      1      0   19          1          0   \n",
      "388          0          1      1      0   18          0          1   \n",
      "389          0          1      1      0   18          0          1   \n",
      "390          0          1      0      1   20          0          1   \n",
      "391          0          1      0      1   17          0          1   \n",
      "392          0          1      0      1   21          1          0   \n",
      "393          0          1      0      1   18          1          0   \n",
      "394          0          1      0      1   19          0          1   \n",
      "\n",
      "     famsize_GT3  famsize_LE3  Pstatus_A    ...     higher  internet  \\\n",
      "0              1            0          1    ...          1         0   \n",
      "1              1            0          0    ...          1         1   \n",
      "2              0            1          0    ...          1         1   \n",
      "3              1            0          0    ...          1         1   \n",
      "4              1            0          0    ...          1         0   \n",
      "5              0            1          0    ...          1         1   \n",
      "6              0            1          0    ...          1         1   \n",
      "7              1            0          1    ...          1         0   \n",
      "8              0            1          1    ...          1         1   \n",
      "9              1            0          0    ...          1         1   \n",
      "10             1            0          0    ...          1         1   \n",
      "11             1            0          0    ...          1         1   \n",
      "12             0            1          0    ...          1         1   \n",
      "13             1            0          0    ...          1         1   \n",
      "14             1            0          1    ...          1         1   \n",
      "15             1            0          0    ...          1         1   \n",
      "16             1            0          0    ...          1         1   \n",
      "17             1            0          0    ...          1         0   \n",
      "18             1            0          0    ...          1         1   \n",
      "19             0            1          0    ...          1         1   \n",
      "20             1            0          0    ...          1         1   \n",
      "21             1            0          0    ...          1         1   \n",
      "22             0            1          0    ...          1         1   \n",
      "23             0            1          0    ...          1         1   \n",
      "24             1            0          0    ...          1         1   \n",
      "25             1            0          0    ...          1         1   \n",
      "26             1            0          0    ...          1         1   \n",
      "27             1            0          0    ...          1         1   \n",
      "28             0            1          1    ...          1         1   \n",
      "29             1            0          0    ...          1         1   \n",
      "..           ...          ...        ...    ...        ...       ...   \n",
      "365            1            0          0    ...          1         0   \n",
      "366            0            1          0    ...          1         1   \n",
      "367            1            0          0    ...          1         1   \n",
      "368            1            0          0    ...          1         1   \n",
      "369            1            0          0    ...          1         1   \n",
      "370            0            1          0    ...          1         0   \n",
      "371            0            1          0    ...          0         1   \n",
      "372            1            0          0    ...          1         0   \n",
      "373            1            0          0    ...          1         1   \n",
      "374            0            1          0    ...          1         1   \n",
      "375            1            0          0    ...          1         1   \n",
      "376            1            0          0    ...          1         1   \n",
      "377            0            1          0    ...          1         1   \n",
      "378            1            0          0    ...          1         1   \n",
      "379            1            0          0    ...          1         1   \n",
      "380            1            0          0    ...          1         1   \n",
      "381            1            0          0    ...          1         1   \n",
      "382            1            0          0    ...          1         1   \n",
      "383            1            0          0    ...          1         0   \n",
      "384            1            0          0    ...          1         0   \n",
      "385            1            0          0    ...          1         0   \n",
      "386            1            0          0    ...          1         1   \n",
      "387            1            0          0    ...          1         1   \n",
      "388            0            1          0    ...          1         1   \n",
      "389            1            0          0    ...          1         0   \n",
      "390            0            1          1    ...          1         0   \n",
      "391            0            1          0    ...          1         1   \n",
      "392            1            0          0    ...          1         0   \n",
      "393            0            1          0    ...          1         1   \n",
      "394            0            1          0    ...          1         1   \n",
      "\n",
      "     romantic  famrel  freetime  goout  Dalc  Walc  health  absences  \n",
      "0           0       4         3      4     1     1       3         6  \n",
      "1           0       5         3      3     1     1       3         4  \n",
      "2           0       4         3      2     2     3       3        10  \n",
      "3           1       3         2      2     1     1       5         2  \n",
      "4           0       4         3      2     1     2       5         4  \n",
      "5           0       5         4      2     1     2       5        10  \n",
      "6           0       4         4      4     1     1       3         0  \n",
      "7           0       4         1      4     1     1       1         6  \n",
      "8           0       4         2      2     1     1       1         0  \n",
      "9           0       5         5      1     1     1       5         0  \n",
      "10          0       3         3      3     1     2       2         0  \n",
      "11          0       5         2      2     1     1       4         4  \n",
      "12          0       4         3      3     1     3       5         2  \n",
      "13          0       5         4      3     1     2       3         2  \n",
      "14          1       4         5      2     1     1       3         0  \n",
      "15          0       4         4      4     1     2       2         4  \n",
      "16          0       3         2      3     1     2       2         6  \n",
      "17          0       5         3      2     1     1       4         4  \n",
      "18          0       5         5      5     2     4       5        16  \n",
      "19          0       3         1      3     1     3       5         4  \n",
      "20          0       4         4      1     1     1       1         0  \n",
      "21          0       5         4      2     1     1       5         0  \n",
      "22          0       4         5      1     1     3       5         2  \n",
      "23          0       5         4      4     2     4       5         0  \n",
      "24          0       4         3      2     1     1       5         2  \n",
      "25          0       1         2      2     1     3       5        14  \n",
      "26          0       4         2      2     1     2       5         2  \n",
      "27          0       2         2      4     2     4       1         4  \n",
      "28          0       5         3      3     1     1       5         4  \n",
      "29          1       4         4      5     5     5       5        16  \n",
      "..        ...     ...       ...    ...   ...   ...     ...       ...  \n",
      "365         0       3         3      4     2     4       3         4  \n",
      "366         1       4         2      2     2     2       5         0  \n",
      "367         1       5         2      1     1     2       1         0  \n",
      "368         1       5         2      3     1     2       4         0  \n",
      "369         1       3         2      2     4     2       5        10  \n",
      "370         1       3         2      2     1     1       3         4  \n",
      "371         1       4         3      3     2     3       3         3  \n",
      "372         1       3         4      3     1     1       3         8  \n",
      "373         0       3         5      5     1     3       1        14  \n",
      "374         0       5         4      4     1     1       1         0  \n",
      "375         0       4         3      2     1     2       4         2  \n",
      "376         1       5         4      3     1     1       3         4  \n",
      "377         0       5         4      3     3     4       2         4  \n",
      "378         1       4         1      3     1     2       1         0  \n",
      "379         0       4         5      4     2     3       1        17  \n",
      "380         0       3         2      4     1     4       2         4  \n",
      "381         1       4         4      3     1     3       5         5  \n",
      "382         0       4         4      3     1     1       3         2  \n",
      "383         0       4         3      2     1     3       5         0  \n",
      "384         0       5         4      3     4     3       3        14  \n",
      "385         0       5         3      3     1     3       4         2  \n",
      "386         1       4         4      3     2     2       5         7  \n",
      "387         0       5         4      2     1     2       5         0  \n",
      "388         0       4         3      4     1     1       1         0  \n",
      "389         0       1         1      1     1     1       5         0  \n",
      "390         0       5         5      4     4     5       4        11  \n",
      "391         0       2         4      5     3     4       2         3  \n",
      "392         0       5         5      3     3     3       3         3  \n",
      "393         0       4         4      1     3     4       5         0  \n",
      "394         0       3         2      3     3     3       5         5  \n",
      "\n",
      "[395 rows x 48 columns]>\n"
     ]
    }
   ],
   "source": [
    "print X_all.head"
   ]
  },
  {
   "cell_type": "markdown",
   "metadata": {},
   "source": [
    "### Implementation: Training and Testing Data Split\n",
    "So far, we have converted all _categorical_ features into numeric values. For the next step, we split the data (both features and corresponding labels) into training and test sets. In the following code cell below, you will need to implement the following:\n",
    "- Randomly shuffle and split the data (`X_all`, `y_all`) into training and testing subsets.\n",
    "  - Use 300 training points (approximately 75%) and 95 testing points (approximately 25%).\n",
    "  - Set a `random_state` for the function(s) you use, if provided.\n",
    "  - Store the results in `X_train`, `X_test`, `y_train`, and `y_test`.\n",
    "  \n",
    "用70%,25%將data分成training,testing"
   ]
  },
  {
   "cell_type": "code",
   "execution_count": 17,
   "metadata": {},
   "outputs": [
    {
     "name": "stdout",
     "output_type": "stream",
     "text": [
      "Training set has 300 samples.\n",
      "Testing set has 95 samples.\n"
     ]
    }
   ],
   "source": [
    "# TODO: Import any additional functionality you may need here\n",
    "from sklearn.cross_validation import train_test_split\n",
    "\n",
    "# TODO: Set the number of training points\n",
    "num_train = 300\n",
    "\n",
    "# Set the number of testing points\n",
    "num_test = X_all.shape[0] - num_train\n",
    "\n",
    "# TODO: Shuffle and split the dataset into the number of training and testing points above\n",
    "X_train, X_test, y_train, y_test = train_test_split(X_all, y_all, test_size=0.24, random_state=1)\n",
    "\n",
    "\n",
    "\n",
    "# Show the results of the split\n",
    "print \"Training set has {} samples.\".format(X_train.shape[0])\n",
    "print \"Testing set has {} samples.\".format(X_test.shape[0])"
   ]
  },
  {
   "cell_type": "markdown",
   "metadata": {},
   "source": [
    "## Training and Evaluating Models\n",
    "In this section, you will choose 3 supervised learning models that are appropriate for this problem and available in `scikit-learn`. You will first discuss the reasoning behind choosing these three models by considering what you know about the data and each model's strengths and weaknesses. You will then fit the model to varying sizes of training data (100 data points, 200 data points, and 300 data points) and measure the F<sub>1</sub> score. You will need to produce three tables (one for each model) that shows the training set size, training time, prediction time, F<sub>1</sub> score on the training set, and F<sub>1</sub> score on the testing set.\n",
    "\n",
    "選3種監督式學習的方法，評估其優缺點\n",
    "\n",
    "計算F1"
   ]
  },
  {
   "cell_type": "markdown",
   "metadata": {},
   "source": [
    "### Question 2 - Model Application\n",
    "*List three supervised learning models that are appropriate for this problem. What are the general applications of each model? What are their strengths and weaknesses? Given what you know about the data, why did you choose these models to be applied?*"
   ]
  },
  {
   "cell_type": "markdown",
   "metadata": {},
   "source": [
    "**Answer: **  The three models I chose here are the Decision trees, SVMs, and Gaussian Naive Bayes classifiers. A decision tree is a flowchart-like structure in which each internal node represents a \"test\" on an attribute (e.g. whether a coin flip comes up heads or tails), each branch represents the outcome of the test and each leaf node represents a class label (decision taken after computing all attributes). The path from root to leaf represents classification rules. The advantages of decision tree are that it is easy to understand, does not require large amount of data, and can handle both numerical and categorical data. The major weakness of decision tree is that it is easy to overfit data. The learning algorithm may generate too many rules in order to classify a noise to a desired label. The reason why I chose Decision tree here is that the given data is heterogeneous (that is, features include not only numerical data, but also categorical data). \n",
    "\n",
    "SVM is a power model which can perform nonlinear separation in current feature space. Many applications (especially binary classification problems) adopt SVM as the classification tool. For example, pedestrian detection in computer vision field. The advantages of SVMs are that they are good at dealing with higher dimensional problems, besides, they only consider a small part of data (called the support vectors) to determine the decision hyperplanes. That is, the model doesn't need lots of training data to find a hyperplane. In general, SVM usually doesn't overfit the data. The disadvantage of SVM is that the performance is highly rely on the kernel function. That is, we may not find a good hyperplane if we use a wrong kernel function. SVMs are chosen here mainly because the given data set has many futures, that is, the data set is a higher dimensional one, which may be well manipulated by a SVM.\n",
    "\n",
    "Gaussian Naive Bayes classifier is a probabilistic based method. A famous application is the spam filter (based on counting word frequencies). The advantage of Naive Bayes classifier is that it is very efficient and we can infer the result given only a part of features. More importantly, Naive Bayes learners and classifiers can be extremely fast compared to more sophisticated methods. The disadvantage is that the naive Bayes classifier assumes that features are conditionally independent. This assumption is not suitable in some applications such as digit recognition. Another disadvantage is that if the occurrence of a certain feature is zero in one class, the posterior probability will be zero. Usually we apply a smoother (e.g. Laplace smoother) to remedy this problem. The reasons why I chose Naive Bayes classifiers here are: (1) it is very fast; (2) it is very simple (from the perspective of implementation). In the near future, I would like to implement some machine learning algorithms in a resource-restricted system (e.g., embedded systems for IoT applications). That system has no Scikit-learn package; and everything need to be implemented by myself. I want to experiment whether a Naive Bayes classifier is good enough for dealing with such a classification problem."
   ]
  },
  {
   "cell_type": "markdown",
   "metadata": {},
   "source": [
    "### Setup\n",
    "Run the code cell below to initialize three helper functions which you can use for training and testing the three supervised learning models you've chosen above. The functions are as follows:\n",
    "- `train_classifier` - takes as input a classifier and training data and fits the classifier to the data.\n",
    "- `predict_labels` - takes as input a fit classifier, features, and a target labeling and makes predictions using the F<sub>1</sub> score.\n",
    "- `train_predict` - takes as input a classifier, and the training and testing data, and performs `train_clasifier` and `predict_labels`.\n",
    " - This function will report the F<sub>1</sub> score for both the training and testing data separately."
   ]
  },
  {
   "cell_type": "code",
   "execution_count": 8,
   "metadata": {
    "collapsed": true
   },
   "outputs": [],
   "source": [
    "def train_classifier(clf, X_train, y_train):\n",
    "    ''' Fits a classifier to the training data. '''\n",
    "    \n",
    "    # Start the clock, train the classifier, then stop the clock\n",
    "    start = time()\n",
    "    clf.fit(X_train, y_train)\n",
    "    end = time()\n",
    "    total_time= end-start\n",
    "    # Print the results\n",
    "    print \"Trained model in {:.4f} seconds\".format(end - start)\n",
    "    \n",
    "def predict_labels(clf, features, target):\n",
    "    ''' Makes predictions using a fit classifier based on F1 score. '''\n",
    "    \n",
    "    # Start the clock, make predictions, then stop the clock\n",
    "    start = time()\n",
    "    y_pred = clf.predict(features)\n",
    "    end = time()\n",
    "    total_time= end-start\n",
    "    # Print and return results\n",
    "    print \"Made predictions in {:.4f} seconds.\".format(end - start)\n",
    "    return f1_score(target.values, y_pred, pos_label='yes'),total_time\n",
    "\n",
    "\n",
    "def train_predict(clf, X_train, y_train, X_test, y_test):\n",
    "    ''' Train and predict using a classifer based on F1 score. '''\n",
    "    \n",
    "    # Indicate the classifier and the training set size\n",
    "    print \"Training a {} using a training set size of {}. . .\".format(clf.__class__.__name__, len(X_train))\n",
    "    \n",
    "    # Train the classifier\n",
    "    train_classifier(clf, X_train, y_train)\n",
    "    \n",
    "    # Print the results of prediction for both training and testing\n",
    "    f1_train,time_train=predict_labels(clf, X_train, y_train)\n",
    "    print \"F1 score for training set: {:.4f}.\".format(f1_train)\n",
    "    \n",
    "    f1_test,time_test=predict_labels(clf, X_test, y_test)\n",
    "    print \"F1 score for test set: {:.4f}.\".format(f1_test)\n",
    "    return f1_train,time_train,f1_test,time_test"
   ]
  },
  {
   "cell_type": "markdown",
   "metadata": {},
   "source": [
    "### Implementation: Model Performance Metrics\n",
    "With the predefined functions above, you will now import the three supervised learning models of your choice and run the `train_predict` function for each one. Remember that you will need to train and predict on each classifier for three different training set sizes: 100, 200, and 300. Hence, you should expect to have 9 different outputs below — 3 for each model using the varying training set sizes. In the following code cell, you will need to implement the following:\n",
    "- Import the three supervised learning models you've discussed in the previous section.\n",
    "- Initialize the three models and store them in `clf_A`, `clf_B`, and `clf_C`.\n",
    " - Use a `random_state` for each model you use, if provided.\n",
    " - **Note:** Use the default settings for each model — you will tune one specific model in a later section.\n",
    "- Create the different training set sizes to be used to train each model.\n",
    " - *Do not reshuffle and resplit the data! The new training points should be drawn from `X_train` and `y_train`.*\n",
    "- Fit each model with each training set size and make predictions on the test set (9 in total).  \n",
    "**Note:** Three tables are provided after the following code cell which can be used to store your results."
   ]
  },
  {
   "cell_type": "code",
   "execution_count": 9,
   "metadata": {},
   "outputs": [
    {
     "name": "stdout",
     "output_type": "stream",
     "text": [
      "Training a DecisionTreeClassifier using a training set size of 100. . .\n",
      "Trained model in 0.0050 seconds\n",
      "Made predictions in 0.0025 seconds.\n",
      "F1 score for training set: 1.0000.\n",
      "Made predictions in 0.0010 seconds.\n",
      "F1 score for test set: 0.6829.\n",
      "Training a DecisionTreeClassifier using a training set size of 200. . .\n",
      "Trained model in 0.0019 seconds\n",
      "Made predictions in 0.0006 seconds.\n",
      "F1 score for training set: 1.0000.\n",
      "Made predictions in 0.0003 seconds.\n",
      "F1 score for test set: 0.7023.\n",
      "Training a DecisionTreeClassifier using a training set size of 300. . .\n",
      "Trained model in 0.0021 seconds\n",
      "Made predictions in 0.0004 seconds.\n",
      "F1 score for training set: 1.0000.\n",
      "Made predictions in 0.0002 seconds.\n",
      "F1 score for test set: 0.6984.\n",
      "Training a SVC using a training set size of 100. . .\n",
      "Trained model in 0.0030 seconds\n",
      "Made predictions in 0.0011 seconds.\n",
      "F1 score for training set: 0.8591.\n",
      "Made predictions in 0.0007 seconds.\n",
      "F1 score for test set: 0.8333.\n",
      "Training a SVC using a training set size of 200. . .\n",
      "Trained model in 0.0028 seconds\n",
      "Made predictions in 0.0021 seconds.\n",
      "F1 score for training set: 0.8581.\n",
      "Made predictions in 0.0010 seconds.\n",
      "F1 score for test set: 0.8408.\n",
      "Training a SVC using a training set size of 300. . .\n",
      "Trained model in 0.0055 seconds\n",
      "Made predictions in 0.0042 seconds.\n",
      "F1 score for training set: 0.8584.\n",
      "Made predictions in 0.0016 seconds.\n",
      "F1 score for test set: 0.8462.\n",
      "Training a GaussianNB using a training set size of 100. . .\n",
      "Trained model in 0.0007 seconds\n",
      "Made predictions in 0.0004 seconds.\n",
      "F1 score for training set: 0.8346.\n",
      "Made predictions in 0.0004 seconds.\n",
      "F1 score for test set: 0.7402.\n",
      "Training a GaussianNB using a training set size of 200. . .\n",
      "Trained model in 0.0008 seconds\n",
      "Made predictions in 0.0005 seconds.\n",
      "F1 score for training set: 0.7879.\n",
      "Made predictions in 0.0004 seconds.\n",
      "F1 score for test set: 0.6446.\n",
      "Training a GaussianNB using a training set size of 300. . .\n",
      "Trained model in 0.0017 seconds\n",
      "Made predictions in 0.0013 seconds.\n",
      "F1 score for training set: 0.7921.\n",
      "Made predictions in 0.0004 seconds.\n",
      "F1 score for test set: 0.6720.\n"
     ]
    }
   ],
   "source": [
    "# TODO: Import the three supervised learning models from sklearn\n",
    "# from sklearn import model_A (Decision tree)\n",
    "from sklearn.tree import DecisionTreeClassifier\n",
    "# from sklearn import model_B (SVM)\n",
    "from sklearn.svm import SVC\n",
    "# from skearln import model_C (Neural networks)\n",
    "from sklearn.naive_bayes import GaussianNB\n",
    "\n",
    "# TODO: Initialize the three models\n",
    "clf_A = DecisionTreeClassifier(random_state=1) \n",
    "clf_B = SVC(random_state=1)\n",
    "clf_C = GaussianNB()\n",
    "\n",
    "# TODO: Set up the training set sizes\n",
    "X_train_100 = X_train[0:100]\n",
    "y_train_100 = y_train[0:100]\n",
    "\n",
    "X_train_200 = X_train[0:200]\n",
    "y_train_200 = y_train[0:200]\n",
    "\n",
    "X_train_300 = X_train[0:300]\n",
    "y_train_300 = y_train[0:300]\n",
    "\n",
    "# TODO: Execute the 'train_predict' function for each classifier and each training set size\n",
    "# train_predict(clf, X_train, y_train, X_test, y_test)\n",
    "\n",
    "f1_A_100_train,time_A_100_train,f1_A_100_test,time_A_100_test=train_predict(clf_A, X_train_100, y_train_100, X_test, y_test)\n",
    "f1_A_200_train,time_A_200_train,f1_A_200_test,time_A_200_test=train_predict(clf_A, X_train_200, y_train_200, X_test, y_test)\n",
    "f1_A_300_train,time_A_300_train,f1_A_300_test,time_A_300_test=train_predict(clf_A, X_train_300, y_train_300, X_test, y_test)\n",
    "\n",
    "f1_B_100_train,time_B_100_train,f1_B_100_test,time_B_100_test=train_predict(clf_B, X_train_100, y_train_100, X_test, y_test)\n",
    "f1_B_200_train,time_B_200_train,f1_B_200_test,time_B_200_test=train_predict(clf_B, X_train_200, y_train_200, X_test, y_test)\n",
    "f1_B_300_train,time_B_300_train,f1_B_300_test,time_B_300_test=train_predict(clf_B, X_train_300, y_train_300, X_test, y_test)\n",
    "\n",
    "f1_C_100_train,time_C_100_train,f1_C_100_test,time_C_100_test=train_predict(clf_C, X_train_100, y_train_100, X_test, y_test)\n",
    "f1_C_200_train,time_C_200_train,f1_C_200_test,time_C_200_test=train_predict(clf_C, X_train_200, y_train_200, X_test, y_test)\n",
    "f1_C_300_train,time_C_300_train,f1_C_300_test,time_C_300_test=train_predict(clf_C, X_train_300, y_train_300, X_test, y_test)"
   ]
  },
  {
   "cell_type": "markdown",
   "metadata": {},
   "source": [
    "### Print the results in Markdown"
   ]
  },
  {
   "cell_type": "code",
   "execution_count": 10,
   "metadata": {},
   "outputs": [
    {
     "name": "stdout",
     "output_type": "stream",
     "text": [
      "** Classifer 1 - Decision Tree**\n",
      "\n",
      "| Training Set Size | Training Time | Prediction Time (test) | F1 Score (train) | F1 Score (test) |\n",
      "| :---------------: | :---------------------: | :--------------------: | :--------------: | :-------------: |\n",
      "| 100 |  0.0025 | 0.0010 | 1.0000 | 0.6829 |\n",
      "| 200 |  0.0006 | 0.0003 | 1.0000 | 0.7023 |\n",
      "| 300 |  0.0004 | 0.0002 | 1.0000 | 0.6984 |\n",
      "** Classifer 2 - SVM**\n",
      "\n",
      "| Training Set Size | Training Time | Prediction Time (test) | F1 Score (train) | F1 Score (test) |\n",
      "| :---------------: | :---------------------: | :--------------------: | :--------------: | :-------------: |\n",
      "| 100 |  0.0011 | 0.0007 | 0.8591 | 0.8333 |\n",
      "| 200 |  0.0021 | 0.0010 | 0.8581 | 0.8408 |\n",
      "| 300 |  0.0042 | 0.0016 | 0.8584 | 0.8462 |\n",
      "** Classifer 3 - Gaussian Naive Bayes**\n",
      "\n",
      "| Training Set Size | Training Time | Prediction Time (test) | F1 Score (train) | F1 Score (test) |\n",
      "| :---------------: | :---------------------: | :--------------------: | :--------------: | :-------------: |\n",
      "| 100 |  0.0004 | 0.0004 | 0.8346 | 0.7402 |\n",
      "| 200 |  0.0005 | 0.0004 | 0.7879 | 0.6446 |\n",
      "| 300 |  0.0013 | 0.0004 | 0.7921 | 0.6720 |\n"
     ]
    }
   ],
   "source": [
    "print '** Classifer 1 - Decision Tree**'\n",
    "print\n",
    "print '| Training Set Size | Training Time | Prediction Time (test) | F1 Score (train) | F1 Score (test) |'\n",
    "print '| :---------------: | :---------------------: | :--------------------: | :--------------: | :-------------: |'\n",
    "print \"| 100 | \",\"{:.4f}\".format(time_A_100_train), \"|\",  \"{:.4f}\".format(time_A_100_test), \"|\",\n",
    "print \"{:.4f}\".format(f1_A_100_train),\"|\",\"{:.4f}\".format(f1_A_100_test),\"|\"\n",
    "print \"| 200 | \",\"{:.4f}\".format(time_A_200_train), \"|\",  \"{:.4f}\".format(time_A_200_test), \"|\",\n",
    "print \"{:.4f}\".format(f1_A_200_train),\"|\",\"{:.4f}\".format(f1_A_200_test),\"|\"\n",
    "print \"| 300 | \",\"{:.4f}\".format(time_A_300_train), \"|\",  \"{:.4f}\".format(time_A_300_test), \"|\",\n",
    "print \"{:.4f}\".format(f1_A_300_train),\"|\",\"{:.4f}\".format(f1_A_300_test),\"|\"\n",
    "\n",
    "print '** Classifer 2 - SVM**'\n",
    "print\n",
    "print '| Training Set Size | Training Time | Prediction Time (test) | F1 Score (train) | F1 Score (test) |'\n",
    "print '| :---------------: | :---------------------: | :--------------------: | :--------------: | :-------------: |'\n",
    "print \"| 100 | \",\"{:.4f}\".format(time_B_100_train), \"|\",  \"{:.4f}\".format(time_B_100_test), \"|\",\n",
    "print \"{:.4f}\".format(f1_B_100_train),\"|\",\"{:.4f}\".format(f1_B_100_test),\"|\"\n",
    "print \"| 200 | \",\"{:.4f}\".format(time_B_200_train), \"|\",  \"{:.4f}\".format(time_B_200_test), \"|\",\n",
    "print \"{:.4f}\".format(f1_B_200_train),\"|\",\"{:.4f}\".format(f1_B_200_test),\"|\"\n",
    "print \"| 300 | \",\"{:.4f}\".format(time_B_300_train), \"|\",  \"{:.4f}\".format(time_B_300_test), \"|\",\n",
    "print \"{:.4f}\".format(f1_B_300_train),\"|\",\"{:.4f}\".format(f1_B_300_test),\"|\"\n",
    "\n",
    "print '** Classifer 3 - Gaussian Naive Bayes**'\n",
    "print\n",
    "print '| Training Set Size | Training Time | Prediction Time (test) | F1 Score (train) | F1 Score (test) |'\n",
    "print '| :---------------: | :---------------------: | :--------------------: | :--------------: | :-------------: |'\n",
    "print \"| 100 | \",\"{:.4f}\".format(time_C_100_train), \"|\",  \"{:.4f}\".format(time_C_100_test), \"|\",\n",
    "print \"{:.4f}\".format(f1_C_100_train),\"|\",\"{:.4f}\".format(f1_C_100_test),\"|\"\n",
    "print \"| 200 | \",\"{:.4f}\".format(time_C_200_train), \"|\",  \"{:.4f}\".format(time_C_200_test), \"|\",\n",
    "print \"{:.4f}\".format(f1_C_200_train),\"|\",\"{:.4f}\".format(f1_C_200_test),\"|\"\n",
    "print \"| 300 | \",\"{:.4f}\".format(time_C_300_train), \"|\",  \"{:.4f}\".format(time_C_300_test), \"|\",\n",
    "print \"{:.4f}\".format(f1_C_300_train),\"|\",\"{:.4f}\".format(f1_C_300_test),\"|\"\n"
   ]
  },
  {
   "cell_type": "markdown",
   "metadata": {},
   "source": [
    "### Tabular Results\n",
    "Edit the cell below to see how a table can be designed in [Markdown](https://github.com/adam-p/markdown-here/wiki/Markdown-Cheatsheet#tables). You can record your results from above in the tables provided."
   ]
  },
  {
   "cell_type": "markdown",
   "metadata": {},
   "source": [
    "** Classifer 1 - Decision Tree**\n",
    "\n",
    "| Training Set Size | Training Time | Prediction Time (test) | F1 Score (train) | F1 Score (test) |\n",
    "| :---------------: | :---------------------: | :--------------------: | :--------------: | :-------------: |\n",
    "| 100 |  0.0000 | 0.0000 | 1.0000 | 0.6667 |\n",
    "| 200 |  0.0010 | 0.0010 | 1.0000 | 0.7023 |\n",
    "| 300 |  0.0010 | 0.0010 | 1.0000 | 0.6984 |\n",
    "** Classifer 2 - SVM**\n",
    "\n",
    "| Training Set Size | Training Time | Prediction Time (test) | F1 Score (train) | F1 Score (test) |\n",
    "| :---------------: | :---------------------: | :--------------------: | :--------------: | :-------------: |\n",
    "| 100 |  0.0020 | 0.0020 | 0.8591 | 0.8333 |\n",
    "| 200 |  0.0080 | 0.0020 | 0.8581 | 0.8408 |\n",
    "| 300 |  0.0110 | 0.0020 | 0.8584 | 0.8462 |\n",
    "** Classifer 3 - Gaussian Naive Bayes**\n",
    "\n",
    "| Training Set Size | Training Time | Prediction Time (test) | F1 Score (train) | F1 Score (test) |\n",
    "| :---------------: | :---------------------: | :--------------------: | :--------------: | :-------------: |\n",
    "| 100 |  0.0000 | 0.0010 | 0.8346 | 0.7402 |\n",
    "| 200 |  0.0000 | 0.0010 | 0.7879 | 0.6446 |\n",
    "| 300 |  0.0010 | 0.0010 | 0.7921 | 0.6720 |"
   ]
  },
  {
   "cell_type": "markdown",
   "metadata": {},
   "source": [
    "## Choosing the Best Model\n",
    "In this final section, you will choose from the three supervised learning models the *best* model to use on the student data. You will then perform a grid search optimization for the model over the entire training set (`X_train` and `y_train`) by tuning at least one parameter to improve upon the untuned model's F<sub>1</sub> score. "
   ]
  },
  {
   "cell_type": "markdown",
   "metadata": {},
   "source": [
    "### Question 3 - Chosing the Best Model\n",
    "*Based on the experiments you performed earlier, in one to two paragraphs, explain to the board of supervisors what single model you chose as the best model. Which model is generally the most appropriate based on the available data, limited resources, cost, and performance?*"
   ]
  },
  {
   "cell_type": "markdown",
   "metadata": {},
   "source": [
    "**Answer: **  I choose the SVM model as the best model. The Decision Tree (DT) model runs very fast and have perfect F1 score in training data. But the f1 score of testing set is low. That is, the trained model overfits the data. The performance of Naive Bayes classifier stands between DT and SVM. The Naive Bayes classifier does not perform well with testing data. It might because the distribution of the small training dataset is not representative. On the other hand, SVM has a balanced f1 score among three models. Although it takes some training time but usually we don't need to train many times if we have a robust model."
   ]
  },
  {
   "cell_type": "markdown",
   "metadata": {},
   "source": [
    "### Question 4 - Model in Layman's Terms\n",
    "*In one to two paragraphs, explain to the board of directors in layman's terms how the final model chosen is supposed to work. For example if you've chosen to use a decision tree or a support vector machine, how does the model go about making a prediction?*"
   ]
  },
  {
   "cell_type": "markdown",
   "metadata": {},
   "source": [
    "**Answer: ** In this project, we want to know whether a student will pass or not. In that case, students have to be classified into two classes: \"pass\" or \"not pass\". In the training phase, SVM tries to find a best separate line to separate students into correct classes. The term \"best\" is defined as maximizing the distance between the separate line and both classes. This line will separate the entire space into two regions. To make a prediction, we simply check which region a new data falls in. In some situations we cannot use a line to separate data correctly. However, by taking the distances from each point to the origin into account, we can find that these points can be separated perfectly. Methods to obtain new features like this is called the kernel trick. "
   ]
  },
  {
   "cell_type": "markdown",
   "metadata": {},
   "source": [
    "### Implementation: Model Tuning\n",
    "Fine tune the chosen model. Use grid search (`GridSearchCV`) with at least one important parameter tuned with at least 3 different values. You will need to use the entire training set for this. In the code cell below, you will need to implement the following:\n",
    "- Import [`sklearn.grid_search.gridSearchCV`](http://scikit-learn.org/stable/modules/generated/sklearn.grid_search.GridSearchCV.html) and [`sklearn.metrics.make_scorer`](http://scikit-learn.org/stable/modules/generated/sklearn.metrics.make_scorer.html).\n",
    "- Create a dictionary of parameters you wish to tune for the chosen model.\n",
    " - Example: `parameters = {'parameter' : [list of values]}`.\n",
    "- Initialize the classifier you've chosen and store it in `clf`.\n",
    "- Create the F<sub>1</sub> scoring function using `make_scorer` and store it in `f1_scorer`.\n",
    " - Set the `pos_label` parameter to the correct value!\n",
    "- Perform grid search on the classifier `clf` using `f1_scorer` as the scoring method, and store it in `grid_obj`.\n",
    "- Fit the grid search object to the training data (`X_train`, `y_train`), and store it in `grid_obj`."
   ]
  },
  {
   "cell_type": "code",
   "execution_count": 11,
   "metadata": {},
   "outputs": [
    {
     "name": "stderr",
     "output_type": "stream",
     "text": [
      "/Users/kimble/anaconda/lib/python2.7/site-packages/sklearn/grid_search.py:43: DeprecationWarning: This module was deprecated in version 0.18 in favor of the model_selection module into which all the refactored classes and functions are moved. This module will be removed in 0.20.\n",
      "  DeprecationWarning)\n"
     ]
    },
    {
     "name": "stdout",
     "output_type": "stream",
     "text": [
      "Made predictions in 0.0036 seconds.\n",
      "Tuned model has a training F1 score of 0.8609.\n",
      "Made predictions in 0.0013 seconds.\n",
      "Tuned model has a testing F1 score of 0.8533.\n"
     ]
    }
   ],
   "source": [
    "# TODO: Import 'GridSearchCV' and 'make_scorer'\n",
    "from sklearn.grid_search import GridSearchCV\n",
    "from sklearn.metrics import make_scorer \n",
    "\n",
    "# TODO: Create the parameters list you wish to tune\n",
    "parameters =  {'kernel':['linear','rbf','poly'],'C':[0.1,0.5,1,5,10,100],'gamma':[0,0.001,0.002,0.003,0.004,0.005,],'tol':[1e-2,1e-3,1e-4]} \n",
    "\n",
    "# TODO: Initialize the classifier\n",
    "clf = SVC()\n",
    "\n",
    "# TODO: Make an f1 scoring function using 'make_scorer' \n",
    "f1_scorer =  make_scorer(f1_score,greater_is_better = True,pos_label='yes')\n",
    "\n",
    "# TODO: Perform grid search on the classifier using the f1_scorer as the scoring method\n",
    "grid_obj =  GridSearchCV(clf,parameters,scoring=f1_scorer) \n",
    "\n",
    "# TODO: Fit the grid search object to the training data and find the optimal parameters\n",
    "grid_obj.fit(X_train,y_train)\n",
    "\n",
    "# Get the estimator\n",
    "clf = grid_obj.best_estimator_\n",
    "\n",
    "# Report the final F1 score for training and testing after parameter tuning\n",
    "f1_train,time_train=predict_labels(clf, X_train, y_train)\n",
    "print \"Tuned model has a training F1 score of {:.4f}.\".format(f1_train)\n",
    "f1_test,time_test=predict_labels(clf, X_test, y_test)\n",
    "print \"Tuned model has a testing F1 score of {:.4f}.\".format(f1_test)"
   ]
  },
  {
   "cell_type": "code",
   "execution_count": 12,
   "metadata": {},
   "outputs": [
    {
     "data": {
      "text/plain": [
       "SVC(C=5, cache_size=200, class_weight=None, coef0=0.0,\n",
       "  decision_function_shape=None, degree=3, gamma=0.004, kernel='rbf',\n",
       "  max_iter=-1, probability=False, random_state=None, shrinking=True,\n",
       "  tol=0.01, verbose=False)"
      ]
     },
     "execution_count": 12,
     "metadata": {},
     "output_type": "execute_result"
    }
   ],
   "source": [
    "clf"
   ]
  },
  {
   "cell_type": "markdown",
   "metadata": {},
   "source": [
    "### Question 5 - Final F<sub>1</sub> Score\n",
    "*What is the final model's F<sub>1</sub> score for training and testing? How does that score compare to the untuned model?*"
   ]
  },
  {
   "cell_type": "markdown",
   "metadata": {},
   "source": [
    "**Answer: ** The final f1 score is 0.8584 and 0.8462 for training and testing set respectively. The result is identical to the untuned model. "
   ]
  },
  {
   "cell_type": "markdown",
   "metadata": {},
   "source": [
    "> **Note**: Once you have completed all of the code implementations and successfully answered each question above, you may finalize your work by exporting the iPython Notebook as an HTML document. You can do this by using the menu above and navigating to  \n",
    "**File -> Download as -> HTML (.html)**. Include the finished document along with this notebook as your submission."
   ]
  }
 ],
 "metadata": {
  "kernelspec": {
   "display_name": "Python 2",
   "language": "python",
   "name": "python2"
  },
  "language_info": {
   "codemirror_mode": {
    "name": "ipython",
    "version": 2
   },
   "file_extension": ".py",
   "mimetype": "text/x-python",
   "name": "python",
   "nbconvert_exporter": "python",
   "pygments_lexer": "ipython2",
   "version": "2.7.13"
  }
 },
 "nbformat": 4,
 "nbformat_minor": 1
}
